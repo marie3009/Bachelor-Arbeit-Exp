{
 "cells": [
  {
   "cell_type": "code",
   "execution_count": 6,
   "id": "a04ce8d4-fbce-4adf-afad-3b9727a58978",
   "metadata": {},
   "outputs": [
    {
     "name": "stderr",
     "output_type": "stream",
     "text": [
      "/Users/marieredel/Desktop/anaconda3/lib/python3.11/site-packages/sentence_transformers/cross_encoder/CrossEncoder.py:11: TqdmExperimentalWarning: Using `tqdm.autonotebook.tqdm` in notebook mode. Use `tqdm.tqdm` instead to force console mode (e.g. in jupyter console)\n",
      "  from tqdm.autonotebook import tqdm, trange\n",
      "/Users/marieredel/Desktop/anaconda3/lib/python3.11/site-packages/huggingface_hub/file_download.py:1132: FutureWarning: `resume_download` is deprecated and will be removed in version 1.0.0. Downloads always resume when possible. If you want to force a new download, use `force_download=True`.\n",
      "  warnings.warn(\n"
     ]
    }
   ],
   "source": [
    "import pandas as pd\n",
    "import joblib\n",
    "from sentence_transformers import SentenceTransformer\n",
    "from gensim.models import Word2Vec\n",
    "import numpy as np\n",
    "from sklearn.feature_extraction.text import TfidfVectorizer\n",
    "from sklearn.metrics.pairwise import cosine_similarity\n",
    "\n",
    "# Clickbait dataset\n",
    "df = pd.read_csv('clickbait_data.csv')\n",
    "\n",
    "# TF-IDF\n",
    "tfidf_vectorizer = joblib.load('tfidf_vectorizer.pkl')\n",
    "tfidf_matrix = joblib.load('tfidf_matrix.pkl')\n",
    "\n",
    "# Word2Vec\n",
    "word2vec_model = Word2Vec.load('word2vec_model.model')\n",
    "df_word2vec = pd.read_pickle('clickbait_data_with_vectors.pkl')\n",
    "\n",
    "# Sentence Transformer\n",
    "sentence_model = SentenceTransformer('all-MiniLM-L6-v2')\n",
    "df_sentence_transformers = pd.read_pickle('clickbait_data_with_sentence_vectors.pkl')\n"
   ]
  },
  {
   "cell_type": "code",
   "execution_count": 7,
   "id": "6a61544c-f813-43e5-84cb-745bfeff84db",
   "metadata": {},
   "outputs": [],
   "source": [
    "# get recommandation\n",
    "def get_tfidf_recommendations(target_index, n_choices=3):\n",
    "    target_vector = tfidf_matrix[target_index]\n",
    "    similarities = cosine_similarity(target_vector, tfidf_matrix).flatten()\n",
    "    similar_indices = similarities.argsort()[-n_choices-1:-1][::-1]\n",
    "    return similar_indices\n"
   ]
  },
  {
   "cell_type": "code",
   "execution_count": 8,
   "id": "ff1a8412-8850-4f0a-87ee-ca1cb12340dc",
   "metadata": {},
   "outputs": [],
   "source": [
    "# get recommandation\n",
    "def get_word2vec_recommendations(target_index, n_choices=3):\n",
    "    target_vector = df_word2vec.iloc[target_index]['vector']\n",
    "    vectors = np.vstack(df_word2vec['vector'].values)\n",
    "    similarities = cosine_similarity([target_vector], vectors).flatten()\n",
    "    similar_indices = similarities.argsort()[-n_choices-1:-1][::-1]\n",
    "    return similar_indices\n"
   ]
  },
  {
   "cell_type": "code",
   "execution_count": 9,
   "id": "20acdd19-4f03-4ef4-8af8-2235ccfed447",
   "metadata": {},
   "outputs": [],
   "source": [
    "# get recommandation\n",
    "def get_sentence_transformer_recommendations(target_index, n_choices=3):\n",
    "    target_vector = df_sentence_transformers.iloc[target_index]['vector']\n",
    "    vectors = np.vstack(df_sentence_transformers['vector'].values)\n",
    "    similarities = cosine_similarity([target_vector], vectors).flatten()\n",
    "    similar_indices = similarities.argsort()[-n_choices-1:-1][::-1]\n",
    "    return similar_indices\n"
   ]
  },
  {
   "cell_type": "code",
   "execution_count": 15,
   "id": "80e96859-edce-4e31-ab58-cc6b10c0a2be",
   "metadata": {},
   "outputs": [],
   "source": [
    "import random\n",
    "\n",
    "\n",
    "random.seed(42)\n",
    "reference_indices = random.sample(range(len(df)), 100)\n"
   ]
  },
  {
   "cell_type": "code",
   "execution_count": 22,
   "id": "7cff3b3c-5a7b-427f-b86d-8a4a65c32986",
   "metadata": {},
   "outputs": [],
   "source": [
    "def simulate_recommendations_closest(data, get_recommendations_func, reference_indices, n_choices=3):\n",
    "    proposed_clickbait = 0\n",
    "    proposed_non_clickbait = 0\n",
    "    clicked_clickbait = 0\n",
    "    clicked_non_clickbait = 0\n",
    "\n",
    "    for target_index in reference_indices:\n",
    "        similar_indices = get_recommendations_func(target_index, n_choices)\n",
    "        chosen_index = similar_indices[0]\n",
    "\n",
    "        for idx in similar_indices:\n",
    "            if data.iloc[idx]['clickbait'] == 1:\n",
    "                proposed_clickbait += 1\n",
    "            else:\n",
    "                proposed_non_clickbait += 1\n",
    "\n",
    "        if data.iloc[chosen_index]['clickbait'] == 1:\n",
    "            clicked_clickbait += 1\n",
    "        else:\n",
    "            clicked_non_clickbait += 1\n",
    "\n",
    "    total_proposed = proposed_clickbait + proposed_non_clickbait\n",
    "    total_clicked = clicked_clickbait + clicked_non_clickbait\n",
    "\n",
    "    proposed_clickbait_pct = f\"{round((proposed_clickbait / total_proposed) * 100, 2)}%\" if total_proposed > 0 else \"0%\"\n",
    "    proposed_non_clickbait_pct = f\"{round((proposed_non_clickbait / total_proposed) * 100, 2)}%\" if total_proposed > 0 else \"0%\"\n",
    "    clicked_clickbait_pct = f\"{round((clicked_clickbait / total_clicked) * 100, 2)}%\" if total_clicked > 0 else \"0%\"\n",
    "    clicked_non_clickbait_pct = f\"{round((clicked_non_clickbait / total_clicked) * 100, 2)}%\" if total_clicked > 0 else \"0%\"\n",
    "\n",
    "    return {\n",
    "        'proposed_clickbait': proposed_clickbait,\n",
    "        'proposed_non_clickbait': proposed_non_clickbait,\n",
    "        'clicked_clickbait': clicked_clickbait,\n",
    "        'clicked_non_clickbait': clicked_non_clickbait,\n",
    "        'proposed_clickbait_pct': proposed_clickbait_pct,\n",
    "        'proposed_non_clickbait_pct': proposed_non_clickbait_pct,\n",
    "        'clicked_clickbait_pct': clicked_clickbait_pct,\n",
    "        'clicked_non_clickbait_pct': clicked_non_clickbait_pct\n",
    "    }"
   ]
  },
  {
   "cell_type": "code",
   "execution_count": 17,
   "id": "2b13401e-40c6-4cb6-aae6-0fb39565ff0c",
   "metadata": {},
   "outputs": [],
   "source": [
    "def simulate_recommendations_random(data, get_recommendations_func, reference_indices, n_choices=3):\n",
    "    proposed_clickbait = 0\n",
    "    proposed_non_clickbait = 0\n",
    "    clicked_clickbait = 0\n",
    "    clicked_non_clickbait = 0\n",
    "\n",
    "    for target_index in reference_indices:\n",
    "        similar_indices = get_recommendations_func(target_index, n_choices)\n",
    "        chosen_index = random.choice(similar_indices)\n",
    "\n",
    "        for idx in similar_indices:\n",
    "            if data.iloc[idx]['clickbait'] == 1:\n",
    "                proposed_clickbait += 1\n",
    "            else:\n",
    "                proposed_non_clickbait += 1\n",
    "\n",
    "        if data.iloc[chosen_index]['clickbait'] == 1:\n",
    "            clicked_clickbait += 1\n",
    "        else:\n",
    "            clicked_non_clickbait += 1\n",
    "\n",
    "    total_proposed = proposed_clickbait + proposed_non_clickbait\n",
    "    total_clicked = clicked_clickbait + clicked_non_clickbait\n",
    "\n",
    "    proposed_clickbait_pct = f\"{round((proposed_clickbait / total_proposed) * 100, 2)}%\" if total_proposed > 0 else \"0%\"\n",
    "    proposed_non_clickbait_pct = f\"{round((proposed_non_clickbait / total_proposed) * 100, 2)}%\" if total_proposed > 0 else \"0%\"\n",
    "    clicked_clickbait_pct = f\"{round((clicked_clickbait / total_clicked) * 100, 2)}%\" if total_clicked > 0 else \"0%\"\n",
    "    clicked_non_clickbait_pct = f\"{round((clicked_non_clickbait / total_clicked) * 100, 2)}%\" if total_clicked > 0 else \"0%\"\n",
    "\n",
    "    return {\n",
    "        'proposed_clickbait': proposed_clickbait,\n",
    "        'proposed_non_clickbait': proposed_non_clickbait,\n",
    "        'clicked_clickbait': clicked_clickbait,\n",
    "        'clicked_non_clickbait': clicked_non_clickbait,\n",
    "        'proposed_clickbait_pct': proposed_clickbait_pct,\n",
    "        'proposed_non_clickbait_pct': proposed_non_clickbait_pct,\n",
    "        'clicked_clickbait_pct': clicked_clickbait_pct,\n",
    "        'clicked_non_clickbait_pct': clicked_non_clickbait_pct\n",
    "    }\n"
   ]
  },
  {
   "cell_type": "code",
   "execution_count": 23,
   "id": "56329f13-891a-4f65-8ce3-e75514078785",
   "metadata": {},
   "outputs": [
    {
     "name": "stdout",
     "output_type": "stream",
     "text": [
      "TF-IDF Results (Closest): {'proposed_clickbait': 198, 'proposed_non_clickbait': 102, 'clicked_clickbait': 63, 'clicked_non_clickbait': 37, 'proposed_clickbait_pct': '66.0%', 'proposed_non_clickbait_pct': '34.0%', 'clicked_clickbait_pct': '63.0%', 'clicked_non_clickbait_pct': '37.0%'}\n",
      "TF-IDF Results (Random): {'proposed_clickbait': 198, 'proposed_non_clickbait': 102, 'clicked_clickbait': 67, 'clicked_non_clickbait': 33, 'proposed_clickbait_pct': '66.0%', 'proposed_non_clickbait_pct': '34.0%', 'clicked_clickbait_pct': '67.0%', 'clicked_non_clickbait_pct': '33.0%'}\n",
      "Word2Vec Results (Closest): {'proposed_clickbait': 172, 'proposed_non_clickbait': 128, 'clicked_clickbait': 58, 'clicked_non_clickbait': 42, 'proposed_clickbait_pct': '57.33%', 'proposed_non_clickbait_pct': '42.67%', 'clicked_clickbait_pct': '58.0%', 'clicked_non_clickbait_pct': '42.0%'}\n",
      "Word2Vec Results (Random): {'proposed_clickbait': 172, 'proposed_non_clickbait': 128, 'clicked_clickbait': 57, 'clicked_non_clickbait': 43, 'proposed_clickbait_pct': '57.33%', 'proposed_non_clickbait_pct': '42.67%', 'clicked_clickbait_pct': '57.0%', 'clicked_non_clickbait_pct': '43.0%'}\n",
      "Sentence Transformer Results (Closest): {'proposed_clickbait': 178, 'proposed_non_clickbait': 122, 'clicked_clickbait': 59, 'clicked_non_clickbait': 41, 'proposed_clickbait_pct': '59.33%', 'proposed_non_clickbait_pct': '40.67%', 'clicked_clickbait_pct': '59.0%', 'clicked_non_clickbait_pct': '41.0%'}\n",
      "Sentence Transformer Results (Random): {'proposed_clickbait': 178, 'proposed_non_clickbait': 122, 'clicked_clickbait': 61, 'clicked_non_clickbait': 39, 'proposed_clickbait_pct': '59.33%', 'proposed_non_clickbait_pct': '40.67%', 'clicked_clickbait_pct': '61.0%', 'clicked_non_clickbait_pct': '39.0%'}\n"
     ]
    }
   ],
   "source": [
    "results_tfidf_closest = simulate_recommendations_closest(df, get_tfidf_recommendations, reference_indices)\n",
    "results_tfidf_random = simulate_recommendations_random(df, get_tfidf_recommendations, reference_indices)\n",
    "print(\"TF-IDF Results (Closest):\", results_tfidf_closest)\n",
    "print(\"TF-IDF Results (Random):\", results_tfidf_random)\n",
    "\n",
    "results_word2vec_closest = simulate_recommendations_closest(df_word2vec, get_word2vec_recommendations, reference_indices)\n",
    "results_word2vec_random = simulate_recommendations_random(df_word2vec, get_word2vec_recommendations, reference_indices)\n",
    "print(\"Word2Vec Results (Closest):\", results_word2vec_closest)\n",
    "print(\"Word2Vec Results (Random):\", results_word2vec_random)\n",
    "\n",
    "results_sentence_transformers_closest = simulate_recommendations_closest(df_sentence_transformers, get_sentence_transformer_recommendations, reference_indices)\n",
    "results_sentence_transformers_random = simulate_recommendations_random(df_sentence_transformers, get_sentence_transformer_recommendations, reference_indices)\n",
    "print(\"Sentence Transformer Results (Closest):\", results_sentence_transformers_closest)\n",
    "print(\"Sentence Transformer Results (Random):\", results_sentence_transformers_random)\n"
   ]
  },
  {
   "cell_type": "code",
   "execution_count": null,
   "id": "bbc007e0-4a0c-49be-93b4-074d41c53cc7",
   "metadata": {},
   "outputs": [],
   "source": []
  }
 ],
 "metadata": {
  "kernelspec": {
   "display_name": "Python 3 (ipykernel)",
   "language": "python",
   "name": "python3"
  },
  "language_info": {
   "codemirror_mode": {
    "name": "ipython",
    "version": 3
   },
   "file_extension": ".py",
   "mimetype": "text/x-python",
   "name": "python",
   "nbconvert_exporter": "python",
   "pygments_lexer": "ipython3",
   "version": "3.11.7"
  }
 },
 "nbformat": 4,
 "nbformat_minor": 5
}

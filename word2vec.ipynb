{
 "cells": [
  {
   "cell_type": "code",
   "execution_count": 12,
   "id": "db526abb-35b1-41ca-872a-53a6e9bf50b3",
   "metadata": {},
   "outputs": [
    {
     "name": "stdout",
     "output_type": "stream",
     "text": [
      "                                            headline  clickbait\n",
      "0                                 Should I Get Bings          1\n",
      "1      Which TV Female Friend Group Do You Belong In          1\n",
      "2  The New \"Star Wars: The Force Awakens\" Trailer...          1\n",
      "3  This Vine Of New York On \"Celebrity Big Brothe...          1\n",
      "4  A Couple Did A Stunning Photo Shoot With Their...          1\n"
     ]
    }
   ],
   "source": [
    "import pandas as pd\n",
    "\n",
    "# Clickbait dataset\n",
    "file_path = 'clickbait_data.csv'\n",
    "data = pd.read_csv(file_path)\n",
    "\n",
    "print(data.head())\n",
    "\n",
    "# prepare data Word2Vec\n",
    "sentences = [title.split() for title in data['headline']]\n"
   ]
  },
  {
   "cell_type": "code",
   "execution_count": 13,
   "id": "60e5dd4a-e9f9-4839-b431-e8be6b8d11ed",
   "metadata": {},
   "outputs": [],
   "source": [
    "from gensim.models import Word2Vec\n",
    "\n",
    "# Train model\n",
    "word2vec_model = Word2Vec(sentences, vector_size=100, window=5, min_count=1, workers=4)\n",
    "\n",
    "word2vec_model.save(\"word2vec_model.model\")\n"
   ]
  },
  {
   "cell_type": "code",
   "execution_count": 14,
   "id": "6ca1b3e1-e3cc-4dd9-9376-20b23d616ebd",
   "metadata": {},
   "outputs": [],
   "source": [
    "import numpy as np\n",
    "\n",
    "word2vec_model = Word2Vec.load(\"word2vec_model.model\")\n",
    "\n",
    "# Convert title in Word2Vec vector\n",
    "def title_to_vector(title, model):\n",
    "    words = title.split()\n",
    "    word_vectors = [model.wv[word] for word in words if word in model.wv]\n",
    "    if len(word_vectors) > 0:\n",
    "        return np.mean(word_vectors, axis=0)\n",
    "    else:\n",
    "        return np.zeros(model.vector_size)\n",
    "\n",
    "data['vector'] = data['headline'].apply(lambda x: title_to_vector(x, word2vec_model))\n",
    "\n",
    "# Save vectors \n",
    "data[['headline', 'clickbait', 'vector']].to_pickle('clickbait_data_with_vectors.pkl')\n"
   ]
  },
  {
   "cell_type": "code",
   "execution_count": null,
   "id": "96dbda01-4162-42fb-a6de-08aa995327ec",
   "metadata": {},
   "outputs": [],
   "source": []
  }
 ],
 "metadata": {
  "kernelspec": {
   "display_name": "Python 3 (ipykernel)",
   "language": "python",
   "name": "python3"
  },
  "language_info": {
   "codemirror_mode": {
    "name": "ipython",
    "version": 3
   },
   "file_extension": ".py",
   "mimetype": "text/x-python",
   "name": "python",
   "nbconvert_exporter": "python",
   "pygments_lexer": "ipython3",
   "version": "3.11.7"
  }
 },
 "nbformat": 4,
 "nbformat_minor": 5
}

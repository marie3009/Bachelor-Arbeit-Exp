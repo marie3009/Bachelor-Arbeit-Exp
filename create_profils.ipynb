{
 "cells": [
  {
   "cell_type": "code",
   "execution_count": 7,
   "id": "45f7116d-d19c-423f-9aff-bd9aac2215e1",
   "metadata": {},
   "outputs": [],
   "source": [
    "import pandas as pd\n",
    "import numpy as np\n",
    "\n",
    "# Clickbait dataset \n",
    "df = pd.read_csv('clickbait_data.csv')\n",
    "\n",
    "# 1 = 'yes' and 0 = 'no' \n",
    "df['clickbait'] = df['clickbait'].apply(lambda x: 'yes' if x == 1 else 'no')\n",
    "\n",
    "# 100 fictional users and 50 fictional interactions per user (chosen randomly)\n",
    "n_users = 100  \n",
    "n_interactions_per_user = 50  \n",
    "\n",
    "interaction_data = []\n",
    "\n",
    "for user_id in range(1, n_users + 1):\n",
    "    articles_interacted = df.sample(n_interactions_per_user).index\n",
    "    for article_id in articles_interacted:\n",
    "        interaction_data.append({\n",
    "            'userId': user_id,\n",
    "            'headlineId': article_id,\n",
    "            'headlineName': df.loc[article_id, 'headline'],\n",
    "            'clickbait': df.loc[article_id, 'clickbait'],\n",
    "            'interaction': 1\n",
    "        })\n",
    "\n",
    "interaction_df = pd.DataFrame(interaction_data)\n",
    "interaction_df.to_csv('user_interactions_random.csv', index=False)"
   ]
  },
  {
   "cell_type": "code",
   "execution_count": 1,
   "id": "c0a5badc-1053-4916-94d7-83024f1417e3",
   "metadata": {},
   "outputs": [],
   "source": [
    "import pandas as pd\n",
    "import numpy as np\n",
    "\n",
    "# Same thing, but the interaction are made with 50% clickbait and 50% non-clickbait \n",
    "\n",
    "df = pd.read_csv('clickbait_data.csv')\n",
    "\n",
    "df['clickbait'] = df['clickbait'].apply(lambda x: 'yes' if x == 1 else 'no')\n",
    "\n",
    "n_users = 100\n",
    "n_interactions_per_user = 50\n",
    "\n",
    "interaction_data = []\n",
    "\n",
    "for user_id in range(1, n_users + 1):\n",
    "    n_clickbait = n_interactions_per_user // 2\n",
    "    n_non_clickbait = n_interactions_per_user - n_clickbait\n",
    "    \n",
    "    clickbait_articles = df[df['clickbait'] == 'yes'].sample(n_clickbait).index\n",
    "    non_clickbait_articles = df[df['clickbait'] == 'no'].sample(n_non_clickbait).index\n",
    "    \n",
    "    articles_interacted = list(clickbait_articles) + list(non_clickbait_articles)\n",
    "    np.random.shuffle(articles_interacted)\n",
    "    \n",
    "    for article_id in articles_interacted:\n",
    "        interaction_data.append({\n",
    "            'userId': user_id,\n",
    "            'headlineId': article_id,\n",
    "            'headlineName': df.loc[article_id, 'headline'],\n",
    "            'clickbait': df.loc[article_id, 'clickbait'],\n",
    "            'interaction': 1\n",
    "        })\n",
    "\n",
    "interaction_df = pd.DataFrame(interaction_data)\n",
    "interaction_df.to_csv('user_interactions_50_50.csv', index=False)\n"
   ]
  },
  {
   "cell_type": "code",
   "execution_count": 2,
   "id": "d175a2b8-0062-4531-99bc-ee47d75a49bf",
   "metadata": {},
   "outputs": [],
   "source": [
    "import pandas as pd\n",
    "import numpy as np\n",
    "\n",
    "# Same thing, but the interaction are made with 55% clickbait and 45% non-clickbait (little bias)\n",
    "\n",
    "df = pd.read_csv('clickbait_data.csv')\n",
    "\n",
    "df['clickbait'] = df['clickbait'].apply(lambda x: 'yes' if x == 1 else 'no')\n",
    "\n",
    "n_users = 100\n",
    "n_interactions_per_user = 50\n",
    "bias_ratio = 0.55\n",
    "\n",
    "interaction_data = []\n",
    "\n",
    "for user_id in range(1, n_users + 1):\n",
    "    n_clickbait = int(n_interactions_per_user * bias_ratio)\n",
    "    n_non_clickbait = n_interactions_per_user - n_clickbait\n",
    "    \n",
    "    clickbait_articles = df[df['clickbait'] == 'yes'].sample(n_clickbait).index\n",
    "    non_clickbait_articles = df[df['clickbait'] == 'no'].sample(n_non_clickbait).index\n",
    "    \n",
    "    articles_interacted = list(clickbait_articles) + list(non_clickbait_articles)\n",
    "    np.random.shuffle(articles_interacted)\n",
    "    \n",
    "    for article_id in articles_interacted:\n",
    "        interaction_data.append({\n",
    "            'userId': user_id,\n",
    "            'headlineId': article_id,\n",
    "            'headlineName': df.loc[article_id, 'headline'],\n",
    "            'clickbait': df.loc[article_id, 'clickbait'],\n",
    "            'interaction': 1\n",
    "        })\n",
    "\n",
    "interaction_df = pd.DataFrame(interaction_data)\n",
    "interaction_df.to_csv('user_interactions_bias_55_45.csv', index=False)\n"
   ]
  },
  {
   "cell_type": "code",
   "execution_count": 3,
   "id": "8cf3b940-dfcd-47db-a8b4-44457c47b6e5",
   "metadata": {},
   "outputs": [
    {
     "name": "stdout",
     "output_type": "stream",
     "text": [
      "Statistiques des interactions par utilisateur:\n",
      "   userId  non_clickbait_interactions  clickbait_interactions\n",
      "0       1                          24                      26\n",
      "1       2                          26                      24\n",
      "2       3                          18                      32\n",
      "3       4                          25                      25\n",
      "4       5                          21                      29\n"
     ]
    }
   ],
   "source": [
    "import pandas as pd\n",
    "\n",
    "# Saving in CSV format \n",
    "\n",
    "interaction_df = pd.read_csv('user_interactions_random.csv')\n",
    "\n",
    "user_stats = interaction_df.groupby(['userId', 'clickbait']).size().unstack(fill_value=0).reset_index()\n",
    "user_stats.columns = ['userId', 'non_clickbait_interactions', 'clickbait_interactions']\n",
    "\n",
    "user_stats.to_csv('user_random_clickbait_stats.csv', index=False)\n",
    "\n",
    "print(\"Statistics on interactions by user:\")\n",
    "print(user_stats.head())\n"
   ]
  },
  {
   "cell_type": "code",
   "execution_count": 4,
   "id": "301244a5-305e-44ad-8596-e418a3bf8b67",
   "metadata": {},
   "outputs": [
    {
     "name": "stdout",
     "output_type": "stream",
     "text": [
      "Statistiques des interactions par utilisateur:\n",
      "   userId  non_clickbait_interactions  clickbait_interactions\n",
      "0       1                          25                      25\n",
      "1       2                          25                      25\n",
      "2       3                          25                      25\n",
      "3       4                          25                      25\n",
      "4       5                          25                      25\n"
     ]
    }
   ],
   "source": [
    "import pandas as pd\n",
    "\n",
    "# Saving in CSV format \n",
    "\n",
    "interaction_df = pd.read_csv('user_interactions_50_50.csv')\n",
    "\n",
    "user_stats = interaction_df.groupby(['userId', 'clickbait']).size().unstack(fill_value=0).reset_index()\n",
    "user_stats.columns = ['userId', 'non_clickbait_interactions', 'clickbait_interactions']\n",
    "\n",
    "user_stats.to_csv('user_50_50_clickbait_stats.csv', index=False)\n",
    "\n",
    "print(\"Statistics on interactions by user:\")\n",
    "print(user_stats.head())\n"
   ]
  },
  {
   "cell_type": "code",
   "execution_count": 5,
   "id": "d852dea4-af3f-495a-b663-124821e8df93",
   "metadata": {},
   "outputs": [
    {
     "name": "stdout",
     "output_type": "stream",
     "text": [
      "Statistiques des interactions par utilisateur:\n",
      "   userId  non_clickbait_interactions  clickbait_interactions\n",
      "0       1                          23                      27\n",
      "1       2                          23                      27\n",
      "2       3                          23                      27\n",
      "3       4                          23                      27\n",
      "4       5                          23                      27\n"
     ]
    }
   ],
   "source": [
    "import pandas as pd\n",
    "\n",
    "# Saving in CSV format \n",
    "\n",
    "interaction_df = pd.read_csv('user_interactions_bias_55_45.csv')\n",
    "\n",
    "user_stats = interaction_df.groupby(['userId', 'clickbait']).size().unstack(fill_value=0).reset_index()\n",
    "user_stats.columns = ['userId', 'non_clickbait_interactions', 'clickbait_interactions']\n",
    "\n",
    "user_stats.to_csv('user_55_45_clickbait_stats.csv', index=False)\n",
    "\n",
    "print(\"Statistics on interactions by user:\")\n",
    "print(user_stats.head())"
   ]
  },
  {
   "cell_type": "code",
   "execution_count": null,
   "id": "365b991d-1b9b-46e0-b75b-897c1dc3f100",
   "metadata": {},
   "outputs": [],
   "source": []
  }
 ],
 "metadata": {
  "kernelspec": {
   "display_name": "Python 3 (ipykernel)",
   "language": "python",
   "name": "python3"
  },
  "language_info": {
   "codemirror_mode": {
    "name": "ipython",
    "version": 3
   },
   "file_extension": ".py",
   "mimetype": "text/x-python",
   "name": "python",
   "nbconvert_exporter": "python",
   "pygments_lexer": "ipython3",
   "version": "3.11.7"
  }
 },
 "nbformat": 4,
 "nbformat_minor": 5
}

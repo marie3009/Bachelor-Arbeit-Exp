{
 "cells": [
  {
   "cell_type": "code",
   "execution_count": 1,
   "id": "270298ac-bccd-4e8e-b3d4-2339881b0680",
   "metadata": {},
   "outputs": [
    {
     "name": "stdout",
     "output_type": "stream",
     "text": [
      "Taille de la matrice TF-IDF : (32000, 24458)\n",
      "Vocabulaire TF-IDF : ['00' '000' '00s' ... 'ürümqi' 'śrī' 'šibenik']\n"
     ]
    },
    {
     "data": {
      "text/plain": [
       "['feature_names.pkl']"
      ]
     },
     "execution_count": 1,
     "metadata": {},
     "output_type": "execute_result"
    }
   ],
   "source": [
    "from sklearn.feature_extraction.text import TfidfVectorizer\n",
    "import pandas as pd\n",
    "import re\n",
    "import numpy as np\n",
    "import joblib\n",
    "\n",
    "# Clickbait dataset\n",
    "df = pd.read_csv('clickbait_data.csv')  \n",
    "\n",
    "# Convert text to lower case and delete symbols\n",
    "def clean_text(text):\n",
    "    text = text.lower()\n",
    "    text = re.sub(r'[^\\w\\s]', '', text)\n",
    "    return text\n",
    "\n",
    "df['cleaned_headline'] = df['headline'].apply(clean_text)\n",
    "\n",
    "# TF-IDF representation\n",
    "tfidf_vectorizer = TfidfVectorizer(stop_words='english')  # Utilise la liste des mots vides pour l'anglais\n",
    "tfidf_matrix = tfidf_vectorizer.fit_transform(df['cleaned_headline'])  # Utilise 'cleaned_headline' pour les titres d'articles nettoyés\n",
    "\n",
    "\n",
    "print(\"TF-IDF matrix size :\", tfidf_matrix.shape)\n",
    "print(\"TF-IDF vocabulary:\", tfidf_vectorizer.get_feature_names_out())\n",
    "\n",
    "# Save matrix and vector  \n",
    "joblib.dump(tfidf_matrix, 'tfidf_matrix.pkl')\n",
    "joblib.dump(tfidf_vectorizer, 'tfidf_vectorizer.pkl')\n",
    "\n",
    "\n",
    "feature_names = tfidf_vectorizer.get_feature_names_out()\n",
    "joblib.dump(feature_names, 'feature_names.pkl')\n"
   ]
  },
  {
   "cell_type": "code",
   "execution_count": null,
   "id": "a2269729-fef4-4fa8-9a20-438a8668e0ca",
   "metadata": {},
   "outputs": [],
   "source": []
  }
 ],
 "metadata": {
  "kernelspec": {
   "display_name": "Python 3 (ipykernel)",
   "language": "python",
   "name": "python3"
  },
  "language_info": {
   "codemirror_mode": {
    "name": "ipython",
    "version": 3
   },
   "file_extension": ".py",
   "mimetype": "text/x-python",
   "name": "python",
   "nbconvert_exporter": "python",
   "pygments_lexer": "ipython3",
   "version": "3.11.7"
  }
 },
 "nbformat": 4,
 "nbformat_minor": 5
}

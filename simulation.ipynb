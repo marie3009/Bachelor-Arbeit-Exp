{
 "cells": [
  {
   "cell_type": "code",
   "execution_count": 29,
   "id": "457e459e-41c8-4c89-bf21-c21fc115d43e",
   "metadata": {},
   "outputs": [
    {
     "name": "stdout",
     "output_type": "stream",
     "text": [
      "TF-IDF Results: {'proposed_clickbait': 149, 'proposed_non_clickbait': 151, 'clicked_clickbait': 46, 'clicked_non_clickbait': 54}\n"
     ]
    }
   ],
   "source": [
    "# TF-IDF simulation\n",
    "\n",
    "from sklearn.metrics.pairwise import cosine_similarity\n",
    "import joblib\n",
    "\n",
    "tfidf_matrix = joblib.load('tfidf_matrix.pkl')\n",
    "tfidf_vectorizer = joblib.load('tfidf_vectorizer.pkl')\n",
    "data = pd.read_csv('clickbait_data.csv')\n",
    "\n",
    "# Recommandation function \n",
    "def simulate_recommendations_tfidf(data, tfidf_matrix, n_iterations=100, n_choices=3):\n",
    "    proposed_clickbait = 0\n",
    "    proposed_non_clickbait = 0\n",
    "    clicked_clickbait = 0\n",
    "    clicked_non_clickbait = 0\n",
    "\n",
    "    for _ in range(n_iterations):\n",
    "        indices = random.sample(range(tfidf_matrix.shape[0]), n_choices)\n",
    "        chosen_index = random.choice(indices)\n",
    "\n",
    "        # Count the proposed proportions\n",
    "        for idx in indices:\n",
    "            if data.iloc[idx]['clickbait'] == 1:\n",
    "                proposed_clickbait += 1\n",
    "            else:\n",
    "                proposed_non_clickbait += 1\n",
    "\n",
    "        # Count the proportion clicked\n",
    "        if data.iloc[chosen_index]['clickbait'] == 1:\n",
    "            clicked_clickbait += 1\n",
    "        else:\n",
    "            clicked_non_clickbait += 1\n",
    "\n",
    "    return {\n",
    "        'proposed_clickbait': proposed_clickbait,\n",
    "        'proposed_non_clickbait': proposed_non_clickbait,\n",
    "        'clicked_clickbait': clicked_clickbait,\n",
    "        'clicked_non_clickbait': clicked_non_clickbait\n",
    "    }\n",
    "\n",
    "# Simulation \n",
    "results_tfidf = simulate_recommendations_tfidf(data, tfidf_matrix, n_iterations=100)\n",
    "\n",
    "print(\"TF-IDF Results:\", results_tfidf)\n"
   ]
  },
  {
   "cell_type": "code",
   "execution_count": 30,
   "id": "38d527fc-a51d-4a0a-9bf2-6c645846b367",
   "metadata": {},
   "outputs": [
    {
     "name": "stdout",
     "output_type": "stream",
     "text": [
      "Word2Vec Results: {'proposed_clickbait': 154, 'proposed_non_clickbait': 146, 'clicked_clickbait': 48, 'clicked_non_clickbait': 52}\n"
     ]
    }
   ],
   "source": [
    "# Word2Vec simulation \n",
    "\n",
    "data = pd.read_pickle('clickbait_data_with_vectors.pkl')\n",
    "\n",
    "# Recommandation function \n",
    "def simulate_recommendations_word2vec(data, n_iterations=100, n_choices=3):\n",
    "    proposed_clickbait = 0\n",
    "    proposed_non_clickbait = 0\n",
    "    clicked_clickbait = 0\n",
    "    clicked_non_clickbait = 0\n",
    "\n",
    "    for _ in range(n_iterations):\n",
    "        indices = random.sample(range(len(data)), n_choices)\n",
    "        chosen_index = random.choice(indices)\n",
    "\n",
    "        # Count the proposed proportions\n",
    "        for idx in indices:\n",
    "            if data.iloc[idx]['clickbait'] == 1:\n",
    "                proposed_clickbait += 1\n",
    "            else:\n",
    "                proposed_non_clickbait += 1\n",
    "\n",
    "        # Count the proportion clicked\n",
    "        if data.iloc[chosen_index]['clickbait'] == 1:\n",
    "            clicked_clickbait += 1\n",
    "        else:\n",
    "            clicked_non_clickbait += 1\n",
    "\n",
    "    return {\n",
    "        'proposed_clickbait': proposed_clickbait,\n",
    "        'proposed_non_clickbait': proposed_non_clickbait,\n",
    "        'clicked_clickbait': clicked_clickbait,\n",
    "        'clicked_non_clickbait': clicked_non_clickbait\n",
    "    }\n",
    "\n",
    "# Simulation \n",
    "results_word2vec = simulate_recommendations_word2vec(data, n_iterations=100)\n",
    "\n",
    "print(\"Word2Vec Results:\", results_word2vec)\n"
   ]
  },
  {
   "cell_type": "code",
   "execution_count": 31,
   "id": "7d992e6a-b4c9-4a2d-a5a5-a337036c9c33",
   "metadata": {},
   "outputs": [
    {
     "name": "stderr",
     "output_type": "stream",
     "text": [
      "Simulating recommendations: 100%|██████████████████████████████| 100/100 [00:00<00:00, 10152.26it/s]"
     ]
    },
    {
     "name": "stdout",
     "output_type": "stream",
     "text": [
      "Sentence Transformer Results: {'proposed_clickbait': 148, 'proposed_non_clickbait': 152, 'clicked_clickbait': 53, 'clicked_non_clickbait': 47}\n"
     ]
    },
    {
     "name": "stderr",
     "output_type": "stream",
     "text": [
      "\n"
     ]
    }
   ],
   "source": [
    "import random\n",
    "import pandas as pd\n",
    "import numpy as np\n",
    "from sentence_transformers import SentenceTransformer\n",
    "from tqdm import tqdm\n",
    "\n",
    "data = pd.read_pickle('clickbait_data_with_sentence_vectors.pkl')\n",
    "\n",
    "# Recommandation function \n",
    "def simulate_recommendations_sentence_transformer(data, n_iterations=100, n_choices=3):\n",
    "    proposed_clickbait = 0\n",
    "    proposed_non_clickbait = 0\n",
    "    clicked_clickbait = 0\n",
    "    clicked_non_clickbait = 0\n",
    "\n",
    "    for _ in tqdm(range(n_iterations), desc=\"Simulating recommendations\"):\n",
    "        indices = random.sample(range(len(data)), n_choices)\n",
    "        chosen_index = random.choice(indices)\n",
    "\n",
    "        # Count the proposed proportions\n",
    "        for idx in indices:\n",
    "            if data.iloc[idx]['clickbait'] == 1:\n",
    "                proposed_clickbait += 1\n",
    "            else:\n",
    "                proposed_non_clickbait += 1\n",
    "\n",
    "        # Count the proportion clicked\n",
    "        if data.iloc[chosen_index]['clickbait'] == 1:\n",
    "            clicked_clickbait += 1\n",
    "        else:\n",
    "            clicked_non_clickbait += 1\n",
    "\n",
    "    return {\n",
    "        'proposed_clickbait': proposed_clickbait,\n",
    "        'proposed_non_clickbait': proposed_non_clickbait,\n",
    "        'clicked_clickbait': clicked_clickbait,\n",
    "        'clicked_non_clickbait': clicked_non_clickbait\n",
    "    }\n",
    "\n",
    "# Simulation \n",
    "results_sentence_transformer = simulate_recommendations_sentence_transformer(data, n_iterations=100)\n",
    "\n",
    "print(\"Sentence Transformer Results:\", results_sentence_transformer)\n"
   ]
  },
  {
   "cell_type": "code",
   "execution_count": 32,
   "id": "454d78e5-488c-4941-ab13-a13cb32cd613",
   "metadata": {},
   "outputs": [],
   "source": [
    "# Function to analyze results and calculating percentage \n",
    "def analyze_results(results, method_name):\n",
    "    total_proposed = results['proposed_clickbait'] + results['proposed_non_clickbait']\n",
    "    total_clicked = results['clicked_clickbait'] + results['clicked_non_clickbait']\n",
    "\n",
    "    print(f\"--- {method_name} ---\")\n",
    "    print(f\"Proposed Clickbait: {results['proposed_clickbait']} ({results['proposed_clickbait']/total_proposed*100:.2f}%)\")\n",
    "    print(f\"Proposed Non-Clickbait: {results['proposed_non_clickbait']} ({results['proposed_non_clickbait']/total_proposed*100:.2f}%)\")\n",
    "    print(f\"Clicked Clickbait: {results['clicked_clickbait']} ({results['clicked_clickbait']/total_clicked*100:.2f}%)\")\n",
    "    print(f\"Clicked Non-Clickbait: {results['clicked_non_clickbait']} ({results['clicked_non_clickbait']/total_clicked*100:.2f}%)\")\n",
    "    print(\"\\n\")\n",
    "    "
   ]
  },
  {
   "cell_type": "code",
   "execution_count": 33,
   "id": "4957b7f4-ec95-41e3-beb3-f06942572b45",
   "metadata": {},
   "outputs": [
    {
     "name": "stdout",
     "output_type": "stream",
     "text": [
      "TF-IDF Analysis:\n",
      "--- TF-IDF ---\n",
      "Proposed Clickbait: 149 (49.67%)\n",
      "Proposed Non-Clickbait: 151 (50.33%)\n",
      "Clicked Clickbait: 46 (46.00%)\n",
      "Clicked Non-Clickbait: 54 (54.00%)\n",
      "\n",
      "\n",
      "Word2Vec Analysis:\n",
      "--- Word2Vec ---\n",
      "Proposed Clickbait: 154 (51.33%)\n",
      "Proposed Non-Clickbait: 146 (48.67%)\n",
      "Clicked Clickbait: 48 (48.00%)\n",
      "Clicked Non-Clickbait: 52 (52.00%)\n",
      "\n",
      "\n",
      "Sentence Transformer Analysis:\n",
      "--- Sentence Transformer ---\n",
      "Proposed Clickbait: 148 (49.33%)\n",
      "Proposed Non-Clickbait: 152 (50.67%)\n",
      "Clicked Clickbait: 53 (53.00%)\n",
      "Clicked Non-Clickbait: 47 (47.00%)\n",
      "\n",
      "\n"
     ]
    }
   ],
   "source": [
    "print(\"TF-IDF Analysis:\")\n",
    "analyze_results(results_tfidf, \"TF-IDF\")\n",
    "\n",
    "print(\"Word2Vec Analysis:\")\n",
    "analyze_results(results_word2vec, \"Word2Vec\")\n",
    "\n",
    "print(\"Sentence Transformer Analysis:\")\n",
    "analyze_results(results_sentence_transformer, \"Sentence Transformer\")\n"
   ]
  },
  {
   "cell_type": "code",
   "execution_count": null,
   "id": "aa1b9da8-f0d1-4439-9d18-3ca4b39bab86",
   "metadata": {},
   "outputs": [],
   "source": []
  }
 ],
 "metadata": {
  "kernelspec": {
   "display_name": "Python 3 (ipykernel)",
   "language": "python",
   "name": "python3"
  },
  "language_info": {
   "codemirror_mode": {
    "name": "ipython",
    "version": 3
   },
   "file_extension": ".py",
   "mimetype": "text/x-python",
   "name": "python",
   "nbconvert_exporter": "python",
   "pygments_lexer": "ipython3",
   "version": "3.11.7"
  }
 },
 "nbformat": 4,
 "nbformat_minor": 5
}
